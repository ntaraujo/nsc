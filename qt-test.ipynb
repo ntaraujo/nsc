{
 "cells": [
  {
   "cell_type": "code",
   "execution_count": 1,
   "metadata": {},
   "outputs": [
    {
     "name": "stdout",
     "output_type": "stream",
     "text": [
      "6.3.0\n",
      "6.3.0\n"
     ]
    }
   ],
   "source": [
    "import PySide6.QtCore\n",
    "\n",
    "# Prints PySide6 version\n",
    "print(PySide6.__version__)\n",
    "\n",
    "# Prints the Qt version used to compile PySide6\n",
    "print(PySide6.QtCore.__version__)"
   ]
  },
  {
   "cell_type": "code",
   "execution_count": 2,
   "metadata": {},
   "outputs": [],
   "source": [
    "import sys\n",
    "import random\n",
    "from PySide6 import QtCore, QtWidgets, QtGui"
   ]
  },
  {
   "cell_type": "code",
   "execution_count": 3,
   "metadata": {},
   "outputs": [],
   "source": [
    "class MyWidget(QtWidgets.QWidget):\n",
    "    def __init__(self):\n",
    "        super().__init__()\n",
    "\n",
    "        self.hello = [\"Hallo Welt\", \"Hei maailma\", \"Hola Mundo\", \"Привет мир\"]\n",
    "\n",
    "        self.button = QtWidgets.QPushButton(\"Click me!\")\n",
    "        self.text = QtWidgets.QLabel(\"Hello World\",\n",
    "                                     alignment=QtCore.Qt.AlignCenter)\n",
    "\n",
    "        self.layout = QtWidgets.QVBoxLayout(self)\n",
    "        self.layout.addWidget(self.text)\n",
    "        self.layout.addWidget(self.button)\n",
    "\n",
    "        self.button.clicked.connect(self.magic)\n",
    "\n",
    "    @QtCore.Slot()\n",
    "    def magic(self):\n",
    "        self.text.setText(random.choice(self.hello))"
   ]
  },
  {
   "cell_type": "code",
   "execution_count": 7,
   "metadata": {},
   "outputs": [
    {
     "data": {
      "text/plain": [
       "0"
      ]
     },
     "execution_count": 7,
     "metadata": {},
     "output_type": "execute_result"
    }
   ],
   "source": [
    "if not QtWidgets.QApplication.instance():\n",
    "    app = QtWidgets.QApplication(sys.argv)\n",
    "else:\n",
    "    app = QtWidgets.QApplication.instance()\n",
    "\n",
    "widget = MyWidget()\n",
    "widget.resize(800, 600)\n",
    "widget.show()\n",
    "\n",
    "app.exec()"
   ]
  }
 ],
 "metadata": {
  "interpreter": {
   "hash": "1adeb27df70c3da217d978999ce1a5ea64fcbc45223410d3cc20ce8b991224d6"
  },
  "kernelspec": {
   "display_name": "Python 3.9.12 64-bit",
   "language": "python",
   "name": "python3"
  },
  "language_info": {
   "codemirror_mode": {
    "name": "ipython",
    "version": 3
   },
   "file_extension": ".py",
   "mimetype": "text/x-python",
   "name": "python",
   "nbconvert_exporter": "python",
   "pygments_lexer": "ipython3",
   "version": "3.9.12"
  },
  "orig_nbformat": 4
 },
 "nbformat": 4,
 "nbformat_minor": 2
}
