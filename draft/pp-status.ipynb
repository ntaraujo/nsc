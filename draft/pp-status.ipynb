{
 "cells": [
  {
   "cell_type": "code",
   "execution_count": null,
   "metadata": {},
   "outputs": [],
   "source": [
    "from webdriver_manager.microsoft import EdgeChromiumDriverManager\n",
    "from selenium.webdriver import Edge, EdgeOptions\n",
    "\n",
    "executable_path = EdgeChromiumDriverManager().install()\n",
    "\n",
    "edge_options = EdgeOptions()\n",
    "edge_options.use_chromium = True    "
   ]
  },
  {
   "cell_type": "code",
   "execution_count": 15,
   "metadata": {},
   "outputs": [],
   "source": [
    "import appdirs\n",
    "from os import path\n",
    "\n",
    "user_profile = path.join(appdirs.user_data_dir(), r'Microsoft\\Edge\\User Data')\n",
    "\n",
    "edge_options.add_argument(f\"user-data-dir={user_profile}\")\n",
    "\n",
    "edge_options.add_argument(\"profile-directory=Default\")\n",
    "\n",
    "# edge_options.binary_location = r'C:\\\"Program Files (x86)\"\\Microsoft\\Edge\\Application\\msedge.exe'\n"
   ]
  },
  {
   "cell_type": "code",
   "execution_count": null,
   "metadata": {},
   "outputs": [],
   "source": [
    "driver = Edge(options=edge_options, executable_path=executable_path)"
   ]
  },
  {
   "cell_type": "code",
   "execution_count": 6,
   "metadata": {},
   "outputs": [],
   "source": [
    "cookies_list = driver.get_cookies()"
   ]
  },
  {
   "cell_type": "code",
   "execution_count": null,
   "metadata": {},
   "outputs": [],
   "source": [
    "for c in cookies_list:\n",
    "    print(len(c))"
   ]
  },
  {
   "cell_type": "code",
   "execution_count": null,
   "metadata": {},
   "outputs": [],
   "source": [
    "cookies = os.path.join(user_profile, r\"Default\\Network\\Cookies\")"
   ]
  },
  {
   "cell_type": "code",
   "execution_count": null,
   "metadata": {},
   "outputs": [],
   "source": [
    "fmt = \"https://www.me.com.br/DO/Request/Home.mvc/Show/54844005?SuperCleanPage=true\"\n",
    "\n",
    "driver.get(fmt)"
   ]
  }
 ],
 "metadata": {
  "interpreter": {
   "hash": "1adeb27df70c3da217d978999ce1a5ea64fcbc45223410d3cc20ce8b991224d6"
  },
  "kernelspec": {
   "display_name": "Python 3.9.12 64-bit",
   "language": "python",
   "name": "python3"
  },
  "language_info": {
   "codemirror_mode": {
    "name": "ipython",
    "version": 3
   },
   "file_extension": ".py",
   "mimetype": "text/x-python",
   "name": "python",
   "nbconvert_exporter": "python",
   "pygments_lexer": "ipython3",
   "version": "3.9.12"
  },
  "orig_nbformat": 4
 },
 "nbformat": 4,
 "nbformat_minor": 2
}
