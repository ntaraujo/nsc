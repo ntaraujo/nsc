{
 "cells": [
  {
   "cell_type": "code",
   "execution_count": 1,
   "metadata": {},
   "outputs": [
    {
     "name": "stderr",
     "output_type": "stream",
     "text": [
      "[WDM] - ====== WebDriver manager ======\n",
      "[WDM] - Current edge version is 101.0.1210\n",
      "[WDM] - Get LATEST edgedriver version for 101.0.1210 Edge\n",
      "[WDM] - There is no [win64] edgedriver for browser 101.0.1210 in cache\n",
      "[WDM] - Trying to download new driver from https://msedgedriver.azureedge.net/101.0.1210.47/edgedriver_win64.zip\n",
      "[WDM] - Driver has been saved in cache [C:\\Users\\BRARAUJONA1\\.wdm\\drivers\\edgedriver\\win64\\101.0.1210.47]\n",
      "C:\\Users\\BRARAUJONA1\\AppData\\Local\\Temp\\ipykernel_14388\\1460732492.py:4: DeprecationWarning: executable_path has been deprecated, please pass in a Service object\n",
      "  driver = webdriver.Edge(EdgeChromiumDriverManager().install())\n"
     ]
    }
   ],
   "source": [
    "from webdriver_manager.microsoft import EdgeChromiumDriverManager\n",
    "from selenium import webdriver\n",
    "\n",
    "driver = webdriver.Edge(EdgeChromiumDriverManager().install())\n",
    "driver.set_window_size(1280, 773)"
   ]
  },
  {
   "cell_type": "code",
   "execution_count": null,
   "metadata": {},
   "outputs": [],
   "source": [
    "fmt = \"https://www.me.com.br/DO/Request/Home.mvc/Show/54844005?SuperCleanPage=true\"\n",
    "\n",
    "driver.get(fmt)"
   ]
  }
 ],
 "metadata": {
  "interpreter": {
   "hash": "1adeb27df70c3da217d978999ce1a5ea64fcbc45223410d3cc20ce8b991224d6"
  },
  "kernelspec": {
   "display_name": "Python 3.9.12 64-bit",
   "language": "python",
   "name": "python3"
  },
  "language_info": {
   "codemirror_mode": {
    "name": "ipython",
    "version": 3
   },
   "file_extension": ".py",
   "mimetype": "text/x-python",
   "name": "python",
   "nbconvert_exporter": "python",
   "pygments_lexer": "ipython3",
   "version": "3.9.12"
  },
  "orig_nbformat": 4
 },
 "nbformat": 4,
 "nbformat_minor": 2
}
