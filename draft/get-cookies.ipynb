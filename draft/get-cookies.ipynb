{
 "cells": [
  {
   "cell_type": "code",
   "execution_count": 7,
   "metadata": {},
   "outputs": [],
   "source": [
    "import appdirs\n",
    "import os\n",
    "\n",
    "user_profile = os.path.join(appdirs.user_data_dir(), \"Microsoft\", \"Edge\", \"User Data\")\n",
    "cookies = os.path.join(user_profile, \"Default\", \"Network\", \"Cookies\")\n",
    "cookies_copy = r\"C:\\Users\\BRARAUJONA1\\Documents\\GitHub\\nsc\\private\\Cookies\""
   ]
  },
  {
   "cell_type": "code",
   "execution_count": null,
   "metadata": {},
   "outputs": [],
   "source": [
    "import shutil\n",
    "\n",
    "shutil.copy(cookies, cookies_copy)"
   ]
  },
  {
   "cell_type": "code",
   "execution_count": 20,
   "metadata": {},
   "outputs": [],
   "source": [
    "import sqlite3\n",
    "\n",
    "db = sqlite3.connect(cookies_copy)\n",
    "# ignore decoding errors\n",
    "db.text_factory = lambda b: b.decode(errors=\"ignore\")\n",
    "cursor = db.cursor()\n",
    "# get the cookies from `cookies` table\n",
    "cursor.execute(\"\"\"\n",
    "SELECT host_key, name, value, creation_utc, last_access_utc, expires_utc, encrypted_value \n",
    "FROM cookies\"\"\")\n",
    "\n",
    "cookies_unfiltered = cursor.fetchall()"
   ]
  },
  {
   "cell_type": "code",
   "execution_count": 17,
   "metadata": {},
   "outputs": [],
   "source": [
    "import json\n",
    "import win32crypt\n",
    "import base64\n",
    "\n",
    "local_state = os.path.join(user_profile, \"Local State\")\n",
    "\n",
    "with open(local_state, \"r\", encoding=\"utf-8\") as f:\n",
    "        local_state_dict = f.read()\n",
    "        local_state_dict = json.loads(local_state_dict)\n",
    "\n",
    "key = base64.b64decode(local_state_dict[\"os_crypt\"][\"encrypted_key\"])\n",
    "key = key[5:]\n",
    "encryption_key = win32crypt.CryptUnprotectData(key, None, None, None, 0)[1]"
   ]
  },
  {
   "cell_type": "code",
   "execution_count": 18,
   "metadata": {},
   "outputs": [],
   "source": [
    "from Crypto.Cipher import AES\n",
    "\n",
    "def decrypt_data(data, key):\n",
    "    try:\n",
    "        # get the initialization vector\n",
    "        iv = data[3:15]\n",
    "        data = data[15:]\n",
    "        # generate cipher\n",
    "        cipher = AES.new(key, AES.MODE_GCM, iv)\n",
    "        # decrypt password\n",
    "        return cipher.decrypt(data)[:-16].decode()\n",
    "    except:\n",
    "        try:\n",
    "            return str(win32crypt.CryptUnprotectData(data, None, None, None, 0)[1])\n",
    "        except:\n",
    "            # not supported\n",
    "            return \"\""
   ]
  },
  {
   "cell_type": "code",
   "execution_count": 21,
   "metadata": {},
   "outputs": [],
   "source": [
    "cookies_list = []\n",
    "\n",
    "for host_key, name, value, creation_utc, last_access_utc, expires_utc, encrypted_value in cookies_unfiltered:\n",
    "    if not value:\n",
    "        value = decrypt_data(encrypted_value, encryption_key)\n",
    "    cookies_list.append(\n",
    "        {\n",
    "            \"domain\": host_key,\n",
    "            \"name\": name,\n",
    "            \"value\": value,\n",
    "            \"expiry\": expires_utc\n",
    "        }\n",
    "    )"
   ]
  }
 ],
 "metadata": {
  "interpreter": {
   "hash": "1adeb27df70c3da217d978999ce1a5ea64fcbc45223410d3cc20ce8b991224d6"
  },
  "kernelspec": {
   "display_name": "Python 3.9.12 64-bit",
   "language": "python",
   "name": "python3"
  },
  "language_info": {
   "codemirror_mode": {
    "name": "ipython",
    "version": 3
   },
   "file_extension": ".py",
   "mimetype": "text/x-python",
   "name": "python",
   "nbconvert_exporter": "python",
   "pygments_lexer": "ipython3",
   "version": "3.9.12"
  },
  "orig_nbformat": 4
 },
 "nbformat": 4,
 "nbformat_minor": 2
}
