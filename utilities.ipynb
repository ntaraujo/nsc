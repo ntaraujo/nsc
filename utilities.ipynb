{
 "cells": [
  {
   "cell_type": "code",
   "execution_count": 5,
   "metadata": {},
   "outputs": [],
   "source": [
    "# nestle\n",
    "!c:\\Users\\BRARAUJONA1\\Python39\\python.exe -m pip freeze > requirements.txt"
   ]
  },
  {
   "cell_type": "code",
   "execution_count": null,
   "metadata": {},
   "outputs": [],
   "source": [
    "# nestle\n",
    "\n",
    "!c:\\Users\\BRARAUJONA1\\Python39\\python.exe -m pip install -r requirements.txt"
   ]
  },
  {
   "cell_type": "code",
   "execution_count": 8,
   "metadata": {},
   "outputs": [],
   "source": [
    "# home\n",
    "\n",
    "!c:\\Python39\\python.exe -m pip freeze > requirements.txt"
   ]
  },
  {
   "cell_type": "code",
   "execution_count": null,
   "metadata": {},
   "outputs": [],
   "source": [
    "# home\n",
    "\n",
    "!c:\\Python39\\python.exe -m pip install --user -r requirements.txt"
   ]
  },
  {
   "cell_type": "code",
   "execution_count": null,
   "metadata": {},
   "outputs": [],
   "source": [
    "# home\n",
    "\n",
    "!c:\\Python39\\python.exe -m pip install --upgrade --force-reinstall --user pyside6"
   ]
  }
 ],
 "metadata": {
  "interpreter": {
   "hash": "1adeb27df70c3da217d978999ce1a5ea64fcbc45223410d3cc20ce8b991224d6"
  },
  "kernelspec": {
   "display_name": "Python 3.9.12 64-bit",
   "language": "python",
   "name": "python3"
  },
  "language_info": {
   "codemirror_mode": {
    "name": "ipython",
    "version": 3
   },
   "file_extension": ".py",
   "mimetype": "text/x-python",
   "name": "python",
   "nbconvert_exporter": "python",
   "pygments_lexer": "ipython3",
   "version": "3.9.12"
  },
  "orig_nbformat": 4
 },
 "nbformat": 4,
 "nbformat_minor": 2
}
